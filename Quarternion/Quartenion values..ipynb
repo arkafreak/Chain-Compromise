{
 "cells": [
  {
   "cell_type": "code",
   "execution_count": 43,
   "id": "8b501aeb",
   "metadata": {},
   "outputs": [],
   "source": [
    "import numpy as np\n",
    "import pandas as pd\n",
    "import matplotlib.pyplot as plt\n",
    "import seaborn as sns\n"
   ]
  },
  {
   "cell_type": "markdown",
   "id": "06fe5a3b",
   "metadata": {},
   "source": [
    "# CHAIN 1"
   ]
  },
  {
   "cell_type": "code",
   "execution_count": 44,
   "id": "f595758d",
   "metadata": {},
   "outputs": [
    {
     "data": {
      "text/html": [
       "<div>\n",
       "<style scoped>\n",
       "    .dataframe tbody tr th:only-of-type {\n",
       "        vertical-align: middle;\n",
       "    }\n",
       "\n",
       "    .dataframe tbody tr th {\n",
       "        vertical-align: top;\n",
       "    }\n",
       "\n",
       "    .dataframe thead th {\n",
       "        text-align: right;\n",
       "    }\n",
       "</style>\n",
       "<table border=\"1\" class=\"dataframe\">\n",
       "  <thead>\n",
       "    <tr style=\"text-align: right;\">\n",
       "      <th></th>\n",
       "      <th>time</th>\n",
       "      <th>Qc0</th>\n",
       "      <th>Qc1</th>\n",
       "      <th>Qc2</th>\n",
       "      <th>Qc3</th>\n",
       "    </tr>\n",
       "  </thead>\n",
       "  <tbody>\n",
       "    <tr>\n",
       "      <th>0</th>\n",
       "      <td>0.00</td>\n",
       "      <td>-0.037249</td>\n",
       "      <td>-0.438865</td>\n",
       "      <td>-0.720141</td>\n",
       "      <td>-0.272466</td>\n",
       "    </tr>\n",
       "    <tr>\n",
       "      <th>1</th>\n",
       "      <td>0.02</td>\n",
       "      <td>-0.382876</td>\n",
       "      <td>0.390841</td>\n",
       "      <td>0.623682</td>\n",
       "      <td>-0.103930</td>\n",
       "    </tr>\n",
       "    <tr>\n",
       "      <th>2</th>\n",
       "      <td>0.04</td>\n",
       "      <td>0.244408</td>\n",
       "      <td>0.532826</td>\n",
       "      <td>-0.019315</td>\n",
       "      <td>0.257049</td>\n",
       "    </tr>\n",
       "    <tr>\n",
       "      <th>3</th>\n",
       "      <td>0.06</td>\n",
       "      <td>0.299396</td>\n",
       "      <td>0.250080</td>\n",
       "      <td>0.099327</td>\n",
       "      <td>0.822714</td>\n",
       "    </tr>\n",
       "    <tr>\n",
       "      <th>4</th>\n",
       "      <td>0.08</td>\n",
       "      <td>-0.723378</td>\n",
       "      <td>0.318618</td>\n",
       "      <td>-0.910186</td>\n",
       "      <td>0.039339</td>\n",
       "    </tr>\n",
       "  </tbody>\n",
       "</table>\n",
       "</div>"
      ],
      "text/plain": [
       "   time       Qc0       Qc1       Qc2       Qc3\n",
       "0  0.00 -0.037249 -0.438865 -0.720141 -0.272466\n",
       "1  0.02 -0.382876  0.390841  0.623682 -0.103930\n",
       "2  0.04  0.244408  0.532826 -0.019315  0.257049\n",
       "3  0.06  0.299396  0.250080  0.099327  0.822714\n",
       "4  0.08 -0.723378  0.318618 -0.910186  0.039339"
      ]
     },
     "execution_count": 44,
     "metadata": {},
     "output_type": "execute_result"
    }
   ],
   "source": [
    "ch1 = pd.read_csv(\"chain1.csv\")\n",
    "ch1.head()"
   ]
  },
  {
   "cell_type": "markdown",
   "id": "e08df647",
   "metadata": {},
   "source": [
    "# CHAIN 2"
   ]
  },
  {
   "cell_type": "code",
   "execution_count": 45,
   "id": "4bf7c1f2",
   "metadata": {},
   "outputs": [
    {
     "data": {
      "text/html": [
       "<div>\n",
       "<style scoped>\n",
       "    .dataframe tbody tr th:only-of-type {\n",
       "        vertical-align: middle;\n",
       "    }\n",
       "\n",
       "    .dataframe tbody tr th {\n",
       "        vertical-align: top;\n",
       "    }\n",
       "\n",
       "    .dataframe thead th {\n",
       "        text-align: right;\n",
       "    }\n",
       "</style>\n",
       "<table border=\"1\" class=\"dataframe\">\n",
       "  <thead>\n",
       "    <tr style=\"text-align: right;\">\n",
       "      <th></th>\n",
       "      <th>time</th>\n",
       "      <th>Qc0</th>\n",
       "      <th>Qc1</th>\n",
       "      <th>Qc2</th>\n",
       "      <th>Qc3</th>\n",
       "    </tr>\n",
       "  </thead>\n",
       "  <tbody>\n",
       "    <tr>\n",
       "      <th>0</th>\n",
       "      <td>0.00</td>\n",
       "      <td>-0.334492</td>\n",
       "      <td>-0.151487</td>\n",
       "      <td>-0.621070</td>\n",
       "      <td>0.469304</td>\n",
       "    </tr>\n",
       "    <tr>\n",
       "      <th>1</th>\n",
       "      <td>0.02</td>\n",
       "      <td>-0.932730</td>\n",
       "      <td>0.680385</td>\n",
       "      <td>-0.625089</td>\n",
       "      <td>-0.613099</td>\n",
       "    </tr>\n",
       "    <tr>\n",
       "      <th>2</th>\n",
       "      <td>0.04</td>\n",
       "      <td>0.804280</td>\n",
       "      <td>-0.434193</td>\n",
       "      <td>0.140655</td>\n",
       "      <td>0.429230</td>\n",
       "    </tr>\n",
       "    <tr>\n",
       "      <th>3</th>\n",
       "      <td>0.06</td>\n",
       "      <td>-0.816885</td>\n",
       "      <td>0.831997</td>\n",
       "      <td>0.399100</td>\n",
       "      <td>0.368299</td>\n",
       "    </tr>\n",
       "    <tr>\n",
       "      <th>4</th>\n",
       "      <td>0.08</td>\n",
       "      <td>0.151719</td>\n",
       "      <td>-0.057044</td>\n",
       "      <td>0.001194</td>\n",
       "      <td>0.745941</td>\n",
       "    </tr>\n",
       "  </tbody>\n",
       "</table>\n",
       "</div>"
      ],
      "text/plain": [
       "   time       Qc0       Qc1       Qc2       Qc3\n",
       "0  0.00 -0.334492 -0.151487 -0.621070  0.469304\n",
       "1  0.02 -0.932730  0.680385 -0.625089 -0.613099\n",
       "2  0.04  0.804280 -0.434193  0.140655  0.429230\n",
       "3  0.06 -0.816885  0.831997  0.399100  0.368299\n",
       "4  0.08  0.151719 -0.057044  0.001194  0.745941"
      ]
     },
     "execution_count": 45,
     "metadata": {},
     "output_type": "execute_result"
    }
   ],
   "source": [
    "ch2 = pd.read_csv(\"chain2.csv\")\n",
    "ch2.head()"
   ]
  },
  {
   "cell_type": "markdown",
   "id": "1b81f1b8",
   "metadata": {},
   "source": [
    "# CHAIN 3"
   ]
  },
  {
   "cell_type": "code",
   "execution_count": 46,
   "id": "994ff420",
   "metadata": {},
   "outputs": [
    {
     "data": {
      "text/html": [
       "<div>\n",
       "<style scoped>\n",
       "    .dataframe tbody tr th:only-of-type {\n",
       "        vertical-align: middle;\n",
       "    }\n",
       "\n",
       "    .dataframe tbody tr th {\n",
       "        vertical-align: top;\n",
       "    }\n",
       "\n",
       "    .dataframe thead th {\n",
       "        text-align: right;\n",
       "    }\n",
       "</style>\n",
       "<table border=\"1\" class=\"dataframe\">\n",
       "  <thead>\n",
       "    <tr style=\"text-align: right;\">\n",
       "      <th></th>\n",
       "      <th>time</th>\n",
       "      <th>Qc0</th>\n",
       "      <th>Qc1</th>\n",
       "      <th>Qc2</th>\n",
       "      <th>Qc3</th>\n",
       "    </tr>\n",
       "  </thead>\n",
       "  <tbody>\n",
       "    <tr>\n",
       "      <th>0</th>\n",
       "      <td>0.00</td>\n",
       "      <td>-0.091691</td>\n",
       "      <td>-0.647322</td>\n",
       "      <td>0.513295</td>\n",
       "      <td>-0.782316</td>\n",
       "    </tr>\n",
       "    <tr>\n",
       "      <th>1</th>\n",
       "      <td>0.02</td>\n",
       "      <td>-0.640170</td>\n",
       "      <td>0.292125</td>\n",
       "      <td>-0.186405</td>\n",
       "      <td>-0.381808</td>\n",
       "    </tr>\n",
       "    <tr>\n",
       "      <th>2</th>\n",
       "      <td>0.04</td>\n",
       "      <td>0.853144</td>\n",
       "      <td>0.412776</td>\n",
       "      <td>0.965511</td>\n",
       "      <td>0.777783</td>\n",
       "    </tr>\n",
       "    <tr>\n",
       "      <th>3</th>\n",
       "      <td>0.06</td>\n",
       "      <td>0.782977</td>\n",
       "      <td>0.648593</td>\n",
       "      <td>0.272809</td>\n",
       "      <td>-0.854288</td>\n",
       "    </tr>\n",
       "    <tr>\n",
       "      <th>4</th>\n",
       "      <td>0.08</td>\n",
       "      <td>0.870172</td>\n",
       "      <td>-0.477449</td>\n",
       "      <td>-0.581407</td>\n",
       "      <td>0.893481</td>\n",
       "    </tr>\n",
       "  </tbody>\n",
       "</table>\n",
       "</div>"
      ],
      "text/plain": [
       "   time       Qc0       Qc1       Qc2       Qc3\n",
       "0  0.00 -0.091691 -0.647322  0.513295 -0.782316\n",
       "1  0.02 -0.640170  0.292125 -0.186405 -0.381808\n",
       "2  0.04  0.853144  0.412776  0.965511  0.777783\n",
       "3  0.06  0.782977  0.648593  0.272809 -0.854288\n",
       "4  0.08  0.870172 -0.477449 -0.581407  0.893481"
      ]
     },
     "execution_count": 46,
     "metadata": {},
     "output_type": "execute_result"
    }
   ],
   "source": [
    "ch3 = pd.read_csv(\"chain3.csv\")\n",
    "ch3.head()"
   ]
  },
  {
   "cell_type": "markdown",
   "id": "adf75e89",
   "metadata": {},
   "source": [
    "# CHAIN 4"
   ]
  },
  {
   "cell_type": "code",
   "execution_count": 47,
   "id": "0cd6e764",
   "metadata": {},
   "outputs": [
    {
     "data": {
      "text/html": [
       "<div>\n",
       "<style scoped>\n",
       "    .dataframe tbody tr th:only-of-type {\n",
       "        vertical-align: middle;\n",
       "    }\n",
       "\n",
       "    .dataframe tbody tr th {\n",
       "        vertical-align: top;\n",
       "    }\n",
       "\n",
       "    .dataframe thead th {\n",
       "        text-align: right;\n",
       "    }\n",
       "</style>\n",
       "<table border=\"1\" class=\"dataframe\">\n",
       "  <thead>\n",
       "    <tr style=\"text-align: right;\">\n",
       "      <th></th>\n",
       "      <th>time</th>\n",
       "      <th>Qc0</th>\n",
       "      <th>Qc1</th>\n",
       "      <th>Qc2</th>\n",
       "      <th>Qc3</th>\n",
       "    </tr>\n",
       "  </thead>\n",
       "  <tbody>\n",
       "    <tr>\n",
       "      <th>0</th>\n",
       "      <td>0.00</td>\n",
       "      <td>-0.400591</td>\n",
       "      <td>0.334385</td>\n",
       "      <td>0.689855</td>\n",
       "      <td>-0.354106</td>\n",
       "    </tr>\n",
       "    <tr>\n",
       "      <th>1</th>\n",
       "      <td>0.02</td>\n",
       "      <td>0.798126</td>\n",
       "      <td>-0.346422</td>\n",
       "      <td>0.763290</td>\n",
       "      <td>0.560022</td>\n",
       "    </tr>\n",
       "    <tr>\n",
       "      <th>2</th>\n",
       "      <td>0.04</td>\n",
       "      <td>0.362464</td>\n",
       "      <td>-0.617935</td>\n",
       "      <td>-0.462483</td>\n",
       "      <td>-0.749445</td>\n",
       "    </tr>\n",
       "    <tr>\n",
       "      <th>3</th>\n",
       "      <td>0.06</td>\n",
       "      <td>0.451733</td>\n",
       "      <td>0.804956</td>\n",
       "      <td>0.026550</td>\n",
       "      <td>-0.280939</td>\n",
       "    </tr>\n",
       "    <tr>\n",
       "      <th>4</th>\n",
       "      <td>0.08</td>\n",
       "      <td>-0.724678</td>\n",
       "      <td>0.281941</td>\n",
       "      <td>0.165023</td>\n",
       "      <td>0.844420</td>\n",
       "    </tr>\n",
       "  </tbody>\n",
       "</table>\n",
       "</div>"
      ],
      "text/plain": [
       "   time       Qc0       Qc1       Qc2       Qc3\n",
       "0  0.00 -0.400591  0.334385  0.689855 -0.354106\n",
       "1  0.02  0.798126 -0.346422  0.763290  0.560022\n",
       "2  0.04  0.362464 -0.617935 -0.462483 -0.749445\n",
       "3  0.06  0.451733  0.804956  0.026550 -0.280939\n",
       "4  0.08 -0.724678  0.281941  0.165023  0.844420"
      ]
     },
     "execution_count": 47,
     "metadata": {},
     "output_type": "execute_result"
    }
   ],
   "source": [
    "ch4 = pd.read_csv(\"chain4.csv\")\n",
    "ch4.head()"
   ]
  },
  {
   "cell_type": "code",
   "execution_count": 48,
   "id": "be4f0728",
   "metadata": {},
   "outputs": [
    {
     "name": "stdout",
     "output_type": "stream",
     "text": [
      "Mean Squared Difference (Chain 1 vs Chain 2): 0.6921177579470028\n",
      "Mean Squared Difference (Chain 1 vs Chain 3): 0.658849817414107\n",
      "Mean Squared Difference (Chain 1 vs Chain 4): 0.6712224410313808\n"
     ]
    }
   ],
   "source": [
    "# Specify the column name for comparison\n",
    "column_name = 'Qc0'\n",
    "\n",
    "# Extract the column for each chain\n",
    "qc_chain1 = ch1[column_name]\n",
    "qc_chain2 = ch2[column_name]\n",
    "qc_chain3 = ch3[column_name]\n",
    "qc_chain4 = ch4[column_name]\n",
    "\n",
    "# Calculate the mean squared difference between chain1 and other chains\n",
    "mse_chain2 = np.mean((qc_chain1 - qc_chain2) ** 2)\n",
    "mse_chain3 = np.mean((qc_chain1 - qc_chain3) ** 2)\n",
    "mse_chain4 = np.mean((qc_chain1 - qc_chain4) ** 2)\n",
    "\n",
    "# Print the results\n",
    "print(f\"Mean Squared Difference (Chain 1 vs Chain 2): {mse_chain2}\")\n",
    "print(f\"Mean Squared Difference (Chain 1 vs Chain 3): {mse_chain3}\")\n",
    "print(f\"Mean Squared Difference (Chain 1 vs Chain 4): {mse_chain4}\")\n"
   ]
  },
  {
   "cell_type": "code",
   "execution_count": 49,
   "id": "726e6919",
   "metadata": {},
   "outputs": [
    {
     "data": {
      "image/png": "[encoded data removed]",
      "text/plain": [
       "<Figure size 640x480 with 1 Axes>"
      ]
     },
     "metadata": {},
     "output_type": "display_data"
    }
   ],
   "source": [
    "# Create a bar plot\n",
    "chains = ['Chain 2', 'Chain 3', 'Chain 4']\n",
    "mse_values = [mse_chain2, mse_chain3, mse_chain4]\n",
    "\n",
    "plt.plot(chains, mse_values, color='blue')\n",
    "plt.xlabel('Chains')\n",
    "plt.ylabel('Mean Squared Difference')\n",
    "plt.title(f'Mean Squared Difference of {column_name} between Chains')\n",
    "plt.show()"
   ]
  },
  {
   "cell_type": "code",
   "execution_count": 50,
   "id": "6d398ed2",
   "metadata": {},
   "outputs": [
    {
     "data": {
      "image/png": "[encoded data removed]",
      "text/plain": [
       "<Figure size 1000x600 with 1 Axes>"
      ]
     },
     "metadata": {},
     "output_type": "display_data"
    },
    {
     "name": "stdout",
     "output_type": "stream",
     "text": [
      "Number of time points with identical Qc0 values: 0\n"
     ]
    }
   ],
   "source": [
    "import pandas as pd\n",
    "import matplotlib.pyplot as plt\n",
    "\n",
    "# Load the datasets\n",
    "ch1 = pd.read_csv('chain1.csv')\n",
    "ch2 = pd.read_csv('chain2.csv')\n",
    "ch3 = pd.read_csv('chain3.csv')\n",
    "ch4 = pd.read_csv('chain4.csv')\n",
    "\n",
    "# Specify the column name for comparison\n",
    "column_name = 'Qc0'\n",
    "\n",
    "# Extract the time column and the specified column for each chain\n",
    "time_values = ch1['time']\n",
    "qc_ch1 = ch1[column_name]\n",
    "qc_ch2 = ch2[column_name]\n",
    "qc_ch3 = ch3[column_name]\n",
    "qc_ch4 = ch4[column_name]\n",
    "\n",
    "# Create a Boolean array to indicate identical Qc0 values\n",
    "identical_mask = (qc_ch1 == qc_ch2) & (qc_ch1 == qc_ch3) & (qc_ch1 == qc_ch4)\n",
    "\n",
    "# Create a plot\n",
    "plt.figure(figsize=(10, 6))\n",
    "plt.scatter(time_values[identical_mask], qc_ch1[identical_mask], c='green', label='Identical')\n",
    "plt.scatter(time_values[~identical_mask], qc_ch1[~identical_mask], c='red', label='Not Identical')\n",
    "plt.xlabel('Time')\n",
    "plt.ylabel('Qc0 Value')\n",
    "plt.title('Identical Qc0 Values Across Chains')\n",
    "plt.legend()\n",
    "plt.show()\n",
    "\n",
    "# Count the number of identical time points\n",
    "num_identical_time_points = sum(identical_mask)\n",
    "print(f\"Number of time points with identical Qc0 values: {num_identical_time_points}\")\n"
   ]
  },
  {
   "cell_type": "markdown",
   "id": "1e95c18a",
   "metadata": {},
   "source": [
    "# Please note here we can't see any identical values because it is a randomly generated dataset. Where points will be close but uniquely distinct"
   ]
  },
  {
   "cell_type": "code",
   "execution_count": 51,
   "id": "0124946d",
   "metadata": {},
   "outputs": [
    {
     "data": {
      "image/png": "[encoded data removed]",
      "text/plain": [
       "<Figure size 1000x600 with 1 Axes>"
      ]
     },
     "metadata": {},
     "output_type": "display_data"
    }
   ],
   "source": [
    "# Create a DataFrame for plotting\n",
    "data = pd.DataFrame({\n",
    "    'Chain 1': qc_ch1,\n",
    "    'Chain 2': qc_ch2,\n",
    "    'Chain 3': qc_ch3,\n",
    "    'Chain 4': qc_ch4,\n",
    "})\n",
    "\n",
    "# Create a box plot\n",
    "plt.figure(figsize=(10, 6))\n",
    "sns.boxplot(data=data)\n",
    "plt.xlabel('Chains')\n",
    "plt.ylabel('Qc0 Value')\n",
    "plt.title('Distribution of Qc0 Values Across Chains')\n",
    "plt.show()"
   ]
  },
  {
   "cell_type": "code",
   "execution_count": 59,
   "id": "ea97dc94",
   "metadata": {},
   "outputs": [
    {
     "data": {
      "image/png": "[encoded data removed]",
      "text/plain": [
       "<Figure size 1000x600 with 1 Axes>"
      ]
     },
     "metadata": {},
     "output_type": "display_data"
    }
   ],
   "source": [
    "# Extract the time column and the Qc0 values for each chain for the first 10 rows\n",
    "time_values = ch1['time'][:3]\n",
    "qc_ch1 = ch1[column_name][:3]\n",
    "qc_ch2 = ch2[column_name][:3]\n",
    "qc_ch3 = ch3[column_name][:3]\n",
    "qc_ch4 = ch4[column_name][:3]\n",
    "\n",
    "# Create a plot\n",
    "plt.figure(figsize=(10, 6))\n",
    "plt.plot(time_values, qc_ch1, marker='o', label='Chain 1')\n",
    "plt.plot(time_values, qc_ch2, marker='o', label='Chain 2')\n",
    "plt.plot(time_values, qc_ch3, marker='o', label='Chain 3')\n",
    "plt.plot(time_values, qc_ch4, marker='o', label='Chain 4')\n",
    "\n",
    "plt.xlabel('Time')\n",
    "plt.ylabel('Qc0 Value')\n",
    "plt.title('Qc0 Values Across Chains over Time (First 10 rows)')\n",
    "plt.legend()\n",
    "plt.show()"
   ]
  },
  {
   "cell_type": "markdown",
   "id": "4ae0ee92",
   "metadata": {},
   "source": [
    "# Interactive Visualization"
   ]
  },
  {
   "cell_type": "code",
   "execution_count": 74,
   "id": "5a40d842",
   "metadata": {},
   "outputs": [
    {
     "data": {
      "application/vnd.plotly.v1+json": {
       "config": {
        "plotlyServerURL": "https://plot.ly"
       },
       "data": [
        {
         "hovertemplate": "color=Ch1<br>Time=%{x}<br>Qc0 Value=%{y}<extra></extra>",
         "legendgroup": "Ch1",
         "line": {
          "color": "#636efa",
          "dash": "solid"
         },
         "marker": {
          "symbol": "circle"
         },
         "mode": "lines",
         "name": "Ch1",
         "orientation": "v",
         "showlegend": true,
         "type": "scatter",
         "x": [
          0,
          0.02,
          0.04,
          0.06,
          0.08,
          0.1,
          0.12,
          0.14,
          0.16,
          0.18
         ],
         "xaxis": "x",
         "y": [
          -0.0372489244543581,
          -0.3828755408538604,
          0.2444081807342479,
          0.2993959720937977,
          -0.7233779591609513,
          0.4766235393611961,
          -0.3653525572938154,
          -0.0919836778903242,
          -0.618625350341699,
          0.5857061197004039
         ],
         "yaxis": "y"
        },
        {
         "hovertemplate": "color=Ch2<br>Time=%{x}<br>Qc0 Value=%{y}<extra></extra>",
         "legendgroup": "Ch2",
         "line": {
          "color": "#EF553B",
          "dash": "solid"
         },
         "marker": {
          "symbol": "circle"
         },
         "mode": "lines",
         "name": "Ch2",
         "orientation": "v",
         "showlegend": true,
         "type": "scatter",
         "x": [
          0,
          0.02,
          0.04,
          0.06,
          0.08,
          0.1,
          0.12,
          0.14,
          0.16,
          0.18
         ],
         "xaxis": "x",
         "y": [
          -0.3344924105080893,
          -0.932729583726914,
          0.8042795118195036,
          -0.8168847912519595,
          0.1517190118615827,
          -0.5130951217912749,
          0.7349218388199146,
          -0.8983382070230521,
          0.1846125924061956,
          0.7852941331453644
         ],
         "yaxis": "y"
        },
        {
         "hovertemplate": "color=Ch3<br>Time=%{x}<br>Qc0 Value=%{y}<extra></extra>",
         "legendgroup": "Ch3",
         "line": {
          "color": "#00cc96",
          "dash": "solid"
         },
         "marker": {
          "symbol": "circle"
         },
         "mode": "lines",
         "name": "Ch3",
         "orientation": "v",
         "showlegend": true,
         "type": "scatter",
         "x": [
          0,
          0.02,
          0.04,
          0.06,
          0.08,
          0.1,
          0.12,
          0.14,
          0.16,
          0.18
         ],
         "xaxis": "x",
         "y": [
          -0.0916905167174748,
          -0.6401702823050357,
          0.8531442099702711,
          0.7829771990108125,
          0.8701718041522088,
          0.7565782635468052,
          -0.102537706577324,
          -0.2632189960834821,
          0.326666260963572,
          -0.0146503637234092
         ],
         "yaxis": "y"
        },
        {
         "hovertemplate": "color=Ch4<br>Time=%{x}<br>Qc0 Value=%{y}<extra></extra>",
         "legendgroup": "Ch4",
         "line": {
          "color": "#ab63fa",
          "dash": "solid"
         },
         "marker": {
          "symbol": "circle"
         },
         "mode": "lines",
         "name": "Ch4",
         "orientation": "v",
         "showlegend": true,
         "type": "scatter",
         "x": [
          0,
          0.02,
          0.04,
          0.06,
          0.08,
          0.1,
          0.12,
          0.14,
          0.16,
          0.18
         ],
         "xaxis": "x",
         "y": [
          -0.4005914449096317,
          0.7981260735227611,
          0.3624639856331537,
          0.4517330194288951,
          -0.7246784039831013,
          0.8479671269728435,
          0.1475607308179398,
          -0.7606784793373735,
          0.4462162184795855,
          0.0171594783310342
         ],
         "yaxis": "y"
        }
       ],
       "layout": {
        "legend": {
         "title": {
          "text": "Chains"
         },
         "tracegroupgap": 0
        },
        "template": {
         "data": {
          "bar": [
           {
            "error_x": {
             "color": "#2a3f5f"
            },
            "error_y": {
             "color": "#2a3f5f"
            },
            "marker": {
             "line": {
              "color": "#E5ECF6",
              "width": 0.5
             },
             "pattern": {
              "fillmode": "overlay",
              "size": 10,
              "solidity": 0.2
             }
            },
            "type": "bar"
           }
          ],
          "barpolar": [
           {
            "marker": {
             "line": {
              "color": "#E5ECF6",
              "width": 0.5
             },
             "pattern": {
              "fillmode": "overlay",
              "size": 10,
              "solidity": 0.2
             }
            },
            "type": "barpolar"
           }
          ],
          "carpet": [
           {
            "aaxis": {
             "endlinecolor": "#2a3f5f",
             "gridcolor": "white",
             "linecolor": "white",
             "minorgridcolor": "white",
             "startlinecolor": "#2a3f5f"
            },
            "baxis": {
             "endlinecolor": "#2a3f5f",
             "gridcolor": "white",
             "linecolor": "white",
             "minorgridcolor": "white",
             "startlinecolor": "#2a3f5f"
            },
            "type": "carpet"
           }
          ],
          "choropleth": [
           {
            "colorbar": {
             "outlinewidth": 0,
             "ticks": ""
            },
            "type": "choropleth"
           }
          ],
          "contour": [
           {
            "colorbar": {
             "outlinewidth": 0,
             "ticks": ""
            },
            "colorscale": [
             [
              0,
              "#0d0887"
             ],
             [
              0.1111111111111111,
              "#46039f"
             ],
             [
              0.2222222222222222,
              "#7201a8"
             ],
             [
              0.3333333333333333,
              "#9c179e"
             ],
             [
              0.4444444444444444,
              "#bd3786"
             ],
             [
              0.5555555555555556,
              "#d8576b"
             ],
             [
              0.6666666666666666,
              "#ed7953"
             ],
             [
              0.7777777777777778,
              "#fb9f3a"
             ],
             [
              0.8888888888888888,
              "#fdca26"
             ],
             [
              1,
              "#f0f921"
             ]
            ],
            "type": "contour"
           }
          ],
          "contourcarpet": [
           {
            "colorbar": {
             "outlinewidth": 0,
             "ticks": ""
            },
            "type": "contourcarpet"
           }
          ],
          "heatmap": [
           {
            "colorbar": {
             "outlinewidth": 0,
             "ticks": ""
            },
            "colorscale": [
             [
              0,
              "#0d0887"
             ],
             [
              0.1111111111111111,
              "#46039f"
             ],
             [
              0.2222222222222222,
              "#7201a8"
             ],
             [
              0.3333333333333333,
              "#9c179e"
             ],
             [
              0.4444444444444444,
              "#bd3786"
             ],
             [
              0.5555555555555556,
              "#d8576b"
             ],
             [
              0.6666666666666666,
              "#ed7953"
             ],
             [
              0.7777777777777778,
              "#fb9f3a"
             ],
             [
              0.8888888888888888,
              "#fdca26"
             ],
             [
              1,
              "#f0f921"
             ]
            ],
            "type": "heatmap"
           }
          ],
          "heatmapgl": [
           {
            "colorbar": {
             "outlinewidth": 0,
             "ticks": ""
            },
            "colorscale": [
             [
              0,
              "#0d0887"
             ],
             [
              0.1111111111111111,
              "#46039f"
             ],
             [
              0.2222222222222222,
              "#7201a8"
             ],
             [
              0.3333333333333333,
              "#9c179e"
             ],
             [
              0.4444444444444444,
              "#bd3786"
             ],
             [
              0.5555555555555556,
              "#d8576b"
             ],
             [
              0.6666666666666666,
              "#ed7953"
             ],
             [
              0.7777777777777778,
              "#fb9f3a"
             ],
             [
              0.8888888888888888,
              "#fdca26"
             ],
             [
              1,
              "#f0f921"
             ]
            ],
            "type": "heatmapgl"
           }
          ],
          "histogram": [
           {
            "marker": {
             "pattern": {
              "fillmode": "overlay",
              "size": 10,
              "solidity": 0.2
             }
            },
            "type": "histogram"
           }
          ],
          "histogram2d": [
           {
            "colorbar": {
             "outlinewidth": 0,
             "ticks": ""
            },
            "colorscale": [
             [
              0,
              "#0d0887"
             ],
             [
              0.1111111111111111,
              "#46039f"
             ],
             [
              0.2222222222222222,
              "#7201a8"
             ],
             [
              0.3333333333333333,
              "#9c179e"
             ],
             [
              0.4444444444444444,
              "#bd3786"
             ],
             [
              0.5555555555555556,
              "#d8576b"
             ],
             [
              0.6666666666666666,
              "#ed7953"
             ],
             [
              0.7777777777777778,
              "#fb9f3a"
             ],
             [
              0.8888888888888888,
              "#fdca26"
             ],
             [
              1,
              "#f0f921"
             ]
            ],
            "type": "histogram2d"
           }
          ],
          "histogram2dcontour": [
           {
            "colorbar": {
             "outlinewidth": 0,
             "ticks": ""
            },
            "colorscale": [
             [
              0,
              "#0d0887"
             ],
             [
              0.1111111111111111,
              "#46039f"
             ],
             [
              0.2222222222222222,
              "#7201a8"
             ],
             [
              0.3333333333333333,
              "#9c179e"
             ],
             [
              0.4444444444444444,
              "#bd3786"
             ],
             [
              0.5555555555555556,
              "#d8576b"
             ],
             [
              0.6666666666666666,
              "#ed7953"
             ],
             [
              0.7777777777777778,
              "#fb9f3a"
             ],
             [
              0.8888888888888888,
              "#fdca26"
             ],
             [
              1,
              "#f0f921"
             ]
            ],
            "type": "histogram2dcontour"
           }
          ],
          "mesh3d": [
           {
            "colorbar": {
             "outlinewidth": 0,
             "ticks": ""
            },
            "type": "mesh3d"
           }
          ],
          "parcoords": [
           {
            "line": {
             "colorbar": {
              "outlinewidth": 0,
              "ticks": ""
             }
            },
            "type": "parcoords"
           }
          ],
          "pie": [
           {
            "automargin": true,
            "type": "pie"
           }
          ],
          "scatter": [
           {
            "fillpattern": {
             "fillmode": "overlay",
             "size": 10,
             "solidity": 0.2
            },
            "type": "scatter"
           }
          ],
          "scatter3d": [
           {
            "line": {
             "colorbar": {
              "outlinewidth": 0,
              "ticks": ""
             }
            },
            "marker": {
             "colorbar": {
              "outlinewidth": 0,
              "ticks": ""
             }
            },
            "type": "scatter3d"
           }
          ],
          "scattercarpet": [
           {
            "marker": {
             "colorbar": {
              "outlinewidth": 0,
              "ticks": ""
             }
            },
            "type": "scattercarpet"
           }
          ],
          "scattergeo": [
           {
            "marker": {
             "colorbar": {
              "outlinewidth": 0,
              "ticks": ""
             }
            },
            "type": "scattergeo"
           }
          ],
          "scattergl": [
           {
            "marker": {
             "colorbar": {
              "outlinewidth": 0,
              "ticks": ""
             }
            },
            "type": "scattergl"
           }
          ],
          "scattermapbox": [
           {
            "marker": {
             "colorbar": {
              "outlinewidth": 0,
              "ticks": ""
             }
            },
            "type": "scattermapbox"
           }
          ],
          "scatterpolar": [
           {
            "marker": {
             "colorbar": {
              "outlinewidth": 0,
              "ticks": ""
             }
            },
            "type": "scatterpolar"
           }
          ],
          "scatterpolargl": [
           {
            "marker": {
             "colorbar": {
              "outlinewidth": 0,
              "ticks": ""
             }
            },
            "type": "scatterpolargl"
           }
          ],
          "scatterternary": [
           {
            "marker": {
             "colorbar": {
              "outlinewidth": 0,
              "ticks": ""
             }
            },
            "type": "scatterternary"
           }
          ],
          "surface": [
           {
            "colorbar": {
             "outlinewidth": 0,
             "ticks": ""
            },
            "colorscale": [
             [
              0,
              "#0d0887"
             ],
             [
              0.1111111111111111,
              "#46039f"
             ],
             [
              0.2222222222222222,
              "#7201a8"
             ],
             [
              0.3333333333333333,
              "#9c179e"
             ],
             [
              0.4444444444444444,
              "#bd3786"
             ],
             [
              0.5555555555555556,
              "#d8576b"
             ],
             [
              0.6666666666666666,
              "#ed7953"
             ],
             [
              0.7777777777777778,
              "#fb9f3a"
             ],
             [
              0.8888888888888888,
              "#fdca26"
             ],
             [
              1,
              "#f0f921"
             ]
            ],
            "type": "surface"
           }
          ],
          "table": [
           {
            "cells": {
             "fill": {
              "color": "#EBF0F8"
             },
             "line": {
              "color": "white"
             }
            },
            "header": {
             "fill": {
              "color": "#C8D4E3"
             },
             "line": {
              "color": "white"
             }
            },
            "type": "table"
           }
          ]
         },
         "layout": {
          "annotationdefaults": {
           "arrowcolor": "#2a3f5f",
           "arrowhead": 0,
           "arrowwidth": 1
          },
          "autotypenumbers": "strict",
          "coloraxis": {
           "colorbar": {
            "outlinewidth": 0,
            "ticks": ""
           }
          },
          "colorscale": {
           "diverging": [
            [
             0,
             "#8e0152"
            ],
            [
             0.1,
             "#c51b7d"
            ],
            [
             0.2,
             "#de77ae"
            ],
            [
             0.3,
             "#f1b6da"
            ],
            [
             0.4,
             "#fde0ef"
            ],
            [
             0.5,
             "#f7f7f7"
            ],
            [
             0.6,
             "#e6f5d0"
            ],
            [
             0.7,
             "#b8e186"
            ],
            [
             0.8,
             "#7fbc41"
            ],
            [
             0.9,
             "#4d9221"
            ],
            [
             1,
             "#276419"
            ]
           ],
           "sequential": [
            [
             0,
             "#0d0887"
            ],
            [
             0.1111111111111111,
             "#46039f"
            ],
            [
             0.2222222222222222,
             "#7201a8"
            ],
            [
             0.3333333333333333,
             "#9c179e"
            ],
            [
             0.4444444444444444,
             "#bd3786"
            ],
            [
             0.5555555555555556,
             "#d8576b"
            ],
            [
             0.6666666666666666,
             "#ed7953"
            ],
            [
             0.7777777777777778,
             "#fb9f3a"
            ],
            [
             0.8888888888888888,
             "#fdca26"
            ],
            [
             1,
             "#f0f921"
            ]
           ],
           "sequentialminus": [
            [
             0,
             "#0d0887"
            ],
            [
             0.1111111111111111,
             "#46039f"
            ],
            [
             0.2222222222222222,
             "#7201a8"
            ],
            [
             0.3333333333333333,
             "#9c179e"
            ],
            [
             0.4444444444444444,
             "#bd3786"
            ],
            [
             0.5555555555555556,
             "#d8576b"
            ],
            [
             0.6666666666666666,
             "#ed7953"
            ],
            [
             0.7777777777777778,
             "#fb9f3a"
            ],
            [
             0.8888888888888888,
             "#fdca26"
            ],
            [
             1,
             "#f0f921"
            ]
           ]
          },
          "colorway": [
           "#636efa",
           "#EF553B",
           "#00cc96",
           "#ab63fa",
           "#FFA15A",
           "#19d3f3",
           "#FF6692",
           "#B6E880",
           "#FF97FF",
           "#FECB52"
          ],
          "font": {
           "color": "#2a3f5f"
          },
          "geo": {
           "bgcolor": "white",
           "lakecolor": "white",
           "landcolor": "#E5ECF6",
           "showlakes": true,
           "showland": true,
           "subunitcolor": "white"
          },
          "hoverlabel": {
           "align": "left"
          },
          "hovermode": "closest",
          "mapbox": {
           "style": "light"
          },
          "paper_bgcolor": "white",
          "plot_bgcolor": "#E5ECF6",
          "polar": {
           "angularaxis": {
            "gridcolor": "white",
            "linecolor": "white",
            "ticks": ""
           },
           "bgcolor": "#E5ECF6",
           "radialaxis": {
            "gridcolor": "white",
            "linecolor": "white",
            "ticks": ""
           }
          },
          "scene": {
           "xaxis": {
            "backgroundcolor": "#E5ECF6",
            "gridcolor": "white",
            "gridwidth": 2,
            "linecolor": "white",
            "showbackground": true,
            "ticks": "",
            "zerolinecolor": "white"
           },
           "yaxis": {
            "backgroundcolor": "#E5ECF6",
            "gridcolor": "white",
            "gridwidth": 2,
            "linecolor": "white",
            "showbackground": true,
            "ticks": "",
            "zerolinecolor": "white"
           },
           "zaxis": {
            "backgroundcolor": "#E5ECF6",
            "gridcolor": "white",
            "gridwidth": 2,
            "linecolor": "white",
            "showbackground": true,
            "ticks": "",
            "zerolinecolor": "white"
           }
          },
          "shapedefaults": {
           "line": {
            "color": "#2a3f5f"
           }
          },
          "ternary": {
           "aaxis": {
            "gridcolor": "white",
            "linecolor": "white",
            "ticks": ""
           },
           "baxis": {
            "gridcolor": "white",
            "linecolor": "white",
            "ticks": ""
           },
           "bgcolor": "#E5ECF6",
           "caxis": {
            "gridcolor": "white",
            "linecolor": "white",
            "ticks": ""
           }
          },
          "title": {
           "x": 0.05
          },
          "xaxis": {
           "automargin": true,
           "gridcolor": "white",
           "linecolor": "white",
           "ticks": "",
           "title": {
            "standoff": 15
           },
           "zerolinecolor": "white",
           "zerolinewidth": 2
          },
          "yaxis": {
           "automargin": true,
           "gridcolor": "white",
           "linecolor": "white",
           "ticks": "",
           "title": {
            "standoff": 15
           },
           "zerolinecolor": "white",
           "zerolinewidth": 2
          }
         }
        },
        "title": {
         "text": "Qc0 Values of All Chains over Time (First 10 rows)"
        },
        "xaxis": {
         "anchor": "y",
         "domain": [
          0,
          1
         ],
         "title": {
          "text": "Time"
         }
        },
        "yaxis": {
         "anchor": "x",
         "domain": [
          0,
          1
         ],
         "title": {
          "text": "Qc0 Value"
         }
        }
       }
      },
      "text/html": [
       "<div>                            <div id=\"684f543c-0ec7-48a3-964a-85c4055881a7\" class=\"plotly-graph-div\" style=\"height:525px; width:100%;\"></div>            <script type=\"text/javascript\">                require([\"plotly\"], function(Plotly) {                    window.PLOTLYENV=window.PLOTLYENV || {};                                    if (document.getElementById(\"684f543c-0ec7-48a3-964a-85c4055881a7\")) {                    Plotly.newPlot(                        \"684f543c-0ec7-48a3-964a-85c4055881a7\",                        [{\"hovertemplate\":\"color=Ch1\\u003cbr\\u003eTime=%{x}\\u003cbr\\u003eQc0 Value=%{y}\\u003cextra\\u003e\\u003c\\u002fextra\\u003e\",\"legendgroup\":\"Ch1\",\"line\":{\"color\":\"#636efa\",\"dash\":\"solid\"},\"marker\":{\"symbol\":\"circle\"},\"mode\":\"lines\",\"name\":\"Ch1\",\"orientation\":\"v\",\"showlegend\":true,\"x\":[0.0,0.02,0.04,0.06,0.08,0.1,0.12,0.14,0.16,0.18],\"xaxis\":\"x\",\"y\":[-0.0372489244543581,-0.3828755408538604,0.2444081807342479,0.2993959720937977,-0.7233779591609513,0.4766235393611961,-0.3653525572938154,-0.0919836778903242,-0.618625350341699,0.5857061197004039],\"yaxis\":\"y\",\"type\":\"scatter\"},{\"hovertemplate\":\"color=Ch2\\u003cbr\\u003eTime=%{x}\\u003cbr\\u003eQc0 Value=%{y}\\u003cextra\\u003e\\u003c\\u002fextra\\u003e\",\"legendgroup\":\"Ch2\",\"line\":{\"color\":\"#EF553B\",\"dash\":\"solid\"},\"marker\":{\"symbol\":\"circle\"},\"mode\":\"lines\",\"name\":\"Ch2\",\"orientation\":\"v\",\"showlegend\":true,\"x\":[0.0,0.02,0.04,0.06,0.08,0.1,0.12,0.14,0.16,0.18],\"xaxis\":\"x\",\"y\":[-0.3344924105080893,-0.932729583726914,0.8042795118195036,-0.8168847912519595,0.1517190118615827,-0.5130951217912749,0.7349218388199146,-0.8983382070230521,0.1846125924061956,0.7852941331453644],\"yaxis\":\"y\",\"type\":\"scatter\"},{\"hovertemplate\":\"color=Ch3\\u003cbr\\u003eTime=%{x}\\u003cbr\\u003eQc0 Value=%{y}\\u003cextra\\u003e\\u003c\\u002fextra\\u003e\",\"legendgroup\":\"Ch3\",\"line\":{\"color\":\"#00cc96\",\"dash\":\"solid\"},\"marker\":{\"symbol\":\"circle\"},\"mode\":\"lines\",\"name\":\"Ch3\",\"orientation\":\"v\",\"showlegend\":true,\"x\":[0.0,0.02,0.04,0.06,0.08,0.1,0.12,0.14,0.16,0.18],\"xaxis\":\"x\",\"y\":[-0.0916905167174748,-0.6401702823050357,0.8531442099702711,0.7829771990108125,0.8701718041522088,0.7565782635468052,-0.102537706577324,-0.2632189960834821,0.326666260963572,-0.0146503637234092],\"yaxis\":\"y\",\"type\":\"scatter\"},{\"hovertemplate\":\"color=Ch4\\u003cbr\\u003eTime=%{x}\\u003cbr\\u003eQc0 Value=%{y}\\u003cextra\\u003e\\u003c\\u002fextra\\u003e\",\"legendgroup\":\"Ch4\",\"line\":{\"color\":\"#ab63fa\",\"dash\":\"solid\"},\"marker\":{\"symbol\":\"circle\"},\"mode\":\"lines\",\"name\":\"Ch4\",\"orientation\":\"v\",\"showlegend\":true,\"x\":[0.0,0.02,0.04,0.06,0.08,0.1,0.12,0.14,0.16,0.18],\"xaxis\":\"x\",\"y\":[-0.4005914449096317,0.7981260735227611,0.3624639856331537,0.4517330194288951,-0.7246784039831013,0.8479671269728435,0.1475607308179398,-0.7606784793373735,0.4462162184795855,0.0171594783310342],\"yaxis\":\"y\",\"type\":\"scatter\"}],                        {\"template\":{\"data\":{\"histogram2dcontour\":[{\"type\":\"histogram2dcontour\",\"colorbar\":{\"outlinewidth\":0,\"ticks\":\"\"},\"colorscale\":[[0.0,\"#0d0887\"],[0.1111111111111111,\"#46039f\"],[0.2222222222222222,\"#7201a8\"],[0.3333333333333333,\"#9c179e\"],[0.4444444444444444,\"#bd3786\"],[0.5555555555555556,\"#d8576b\"],[0.6666666666666666,\"#ed7953\"],[0.7777777777777778,\"#fb9f3a\"],[0.8888888888888888,\"#fdca26\"],[1.0,\"#f0f921\"]]}],\"choropleth\":[{\"type\":\"choropleth\",\"colorbar\":{\"outlinewidth\":0,\"ticks\":\"\"}}],\"histogram2d\":[{\"type\":\"histogram2d\",\"colorbar\":{\"outlinewidth\":0,\"ticks\":\"\"},\"colorscale\":[[0.0,\"#0d0887\"],[0.1111111111111111,\"#46039f\"],[0.2222222222222222,\"#7201a8\"],[0.3333333333333333,\"#9c179e\"],[0.4444444444444444,\"#bd3786\"],[0.5555555555555556,\"#d8576b\"],[0.6666666666666666,\"#ed7953\"],[0.7777777777777778,\"#fb9f3a\"],[0.8888888888888888,\"#fdca26\"],[1.0,\"#f0f921\"]]}],\"heatmap\":[{\"type\":\"heatmap\",\"colorbar\":{\"outlinewidth\":0,\"ticks\":\"\"},\"colorscale\":[[0.0,\"#0d0887\"],[0.1111111111111111,\"#46039f\"],[0.2222222222222222,\"#7201a8\"],[0.3333333333333333,\"#9c179e\"],[0.4444444444444444,\"#bd3786\"],[0.5555555555555556,\"#d8576b\"],[0.6666666666666666,\"#ed7953\"],[0.7777777777777778,\"#fb9f3a\"],[0.8888888888888888,\"#fdca26\"],[1.0,\"#f0f921\"]]}],\"heatmapgl\":[{\"type\":\"heatmapgl\",\"colorbar\":{\"outlinewidth\":0,\"ticks\":\"\"},\"colorscale\":[[0.0,\"#0d0887\"],[0.1111111111111111,\"#46039f\"],[0.2222222222222222,\"#7201a8\"],[0.3333333333333333,\"#9c179e\"],[0.4444444444444444,\"#bd3786\"],[0.5555555555555556,\"#d8576b\"],[0.6666666666666666,\"#ed7953\"],[0.7777777777777778,\"#fb9f3a\"],[0.8888888888888888,\"#fdca26\"],[1.0,\"#f0f921\"]]}],\"contourcarpet\":[{\"type\":\"contourcarpet\",\"colorbar\":{\"outlinewidth\":0,\"ticks\":\"\"}}],\"contour\":[{\"type\":\"contour\",\"colorbar\":{\"outlinewidth\":0,\"ticks\":\"\"},\"colorscale\":[[0.0,\"#0d0887\"],[0.1111111111111111,\"#46039f\"],[0.2222222222222222,\"#7201a8\"],[0.3333333333333333,\"#9c179e\"],[0.4444444444444444,\"#bd3786\"],[0.5555555555555556,\"#d8576b\"],[0.6666666666666666,\"#ed7953\"],[0.7777777777777778,\"#fb9f3a\"],[0.8888888888888888,\"#fdca26\"],[1.0,\"#f0f921\"]]}],\"surface\":[{\"type\":\"surface\",\"colorbar\":{\"outlinewidth\":0,\"ticks\":\"\"},\"colorscale\":[[0.0,\"#0d0887\"],[0.1111111111111111,\"#46039f\"],[0.2222222222222222,\"#7201a8\"],[0.3333333333333333,\"#9c179e\"],[0.4444444444444444,\"#bd3786\"],[0.5555555555555556,\"#d8576b\"],[0.6666666666666666,\"#ed7953\"],[0.7777777777777778,\"#fb9f3a\"],[0.8888888888888888,\"#fdca26\"],[1.0,\"#f0f921\"]]}],\"mesh3d\":[{\"type\":\"mesh3d\",\"colorbar\":{\"outlinewidth\":0,\"ticks\":\"\"}}],\"scatter\":[{\"fillpattern\":{\"fillmode\":\"overlay\",\"size\":10,\"solidity\":0.2},\"type\":\"scatter\"}],\"parcoords\":[{\"type\":\"parcoords\",\"line\":{\"colorbar\":{\"outlinewidth\":0,\"ticks\":\"\"}}}],\"scatterpolargl\":[{\"type\":\"scatterpolargl\",\"marker\":{\"colorbar\":{\"outlinewidth\":0,\"ticks\":\"\"}}}],\"bar\":[{\"error_x\":{\"color\":\"#2a3f5f\"},\"error_y\":{\"color\":\"#2a3f5f\"},\"marker\":{\"line\":{\"color\":\"#E5ECF6\",\"width\":0.5},\"pattern\":{\"fillmode\":\"overlay\",\"size\":10,\"solidity\":0.2}},\"type\":\"bar\"}],\"scattergeo\":[{\"type\":\"scattergeo\",\"marker\":{\"colorbar\":{\"outlinewidth\":0,\"ticks\":\"\"}}}],\"scatterpolar\":[{\"type\":\"scatterpolar\",\"marker\":{\"colorbar\":{\"outlinewidth\":0,\"ticks\":\"\"}}}],\"histogram\":[{\"marker\":{\"pattern\":{\"fillmode\":\"overlay\",\"size\":10,\"solidity\":0.2}},\"type\":\"histogram\"}],\"scattergl\":[{\"type\":\"scattergl\",\"marker\":{\"colorbar\":{\"outlinewidth\":0,\"ticks\":\"\"}}}],\"scatter3d\":[{\"type\":\"scatter3d\",\"line\":{\"colorbar\":{\"outlinewidth\":0,\"ticks\":\"\"}},\"marker\":{\"colorbar\":{\"outlinewidth\":0,\"ticks\":\"\"}}}],\"scattermapbox\":[{\"type\":\"scattermapbox\",\"marker\":{\"colorbar\":{\"outlinewidth\":0,\"ticks\":\"\"}}}],\"scatterternary\":[{\"type\":\"scatterternary\",\"marker\":{\"colorbar\":{\"outlinewidth\":0,\"ticks\":\"\"}}}],\"scattercarpet\":[{\"type\":\"scattercarpet\",\"marker\":{\"colorbar\":{\"outlinewidth\":0,\"ticks\":\"\"}}}],\"carpet\":[{\"aaxis\":{\"endlinecolor\":\"#2a3f5f\",\"gridcolor\":\"white\",\"linecolor\":\"white\",\"minorgridcolor\":\"white\",\"startlinecolor\":\"#2a3f5f\"},\"baxis\":{\"endlinecolor\":\"#2a3f5f\",\"gridcolor\":\"white\",\"linecolor\":\"white\",\"minorgridcolor\":\"white\",\"startlinecolor\":\"#2a3f5f\"},\"type\":\"carpet\"}],\"table\":[{\"cells\":{\"fill\":{\"color\":\"#EBF0F8\"},\"line\":{\"color\":\"white\"}},\"header\":{\"fill\":{\"color\":\"#C8D4E3\"},\"line\":{\"color\":\"white\"}},\"type\":\"table\"}],\"barpolar\":[{\"marker\":{\"line\":{\"color\":\"#E5ECF6\",\"width\":0.5},\"pattern\":{\"fillmode\":\"overlay\",\"size\":10,\"solidity\":0.2}},\"type\":\"barpolar\"}],\"pie\":[{\"automargin\":true,\"type\":\"pie\"}]},\"layout\":{\"autotypenumbers\":\"strict\",\"colorway\":[\"#636efa\",\"#EF553B\",\"#00cc96\",\"#ab63fa\",\"#FFA15A\",\"#19d3f3\",\"#FF6692\",\"#B6E880\",\"#FF97FF\",\"#FECB52\"],\"font\":{\"color\":\"#2a3f5f\"},\"hovermode\":\"closest\",\"hoverlabel\":{\"align\":\"left\"},\"paper_bgcolor\":\"white\",\"plot_bgcolor\":\"#E5ECF6\",\"polar\":{\"bgcolor\":\"#E5ECF6\",\"angularaxis\":{\"gridcolor\":\"white\",\"linecolor\":\"white\",\"ticks\":\"\"},\"radialaxis\":{\"gridcolor\":\"white\",\"linecolor\":\"white\",\"ticks\":\"\"}},\"ternary\":{\"bgcolor\":\"#E5ECF6\",\"aaxis\":{\"gridcolor\":\"white\",\"linecolor\":\"white\",\"ticks\":\"\"},\"baxis\":{\"gridcolor\":\"white\",\"linecolor\":\"white\",\"ticks\":\"\"},\"caxis\":{\"gridcolor\":\"white\",\"linecolor\":\"white\",\"ticks\":\"\"}},\"coloraxis\":{\"colorbar\":{\"outlinewidth\":0,\"ticks\":\"\"}},\"colorscale\":{\"sequential\":[[0.0,\"#0d0887\"],[0.1111111111111111,\"#46039f\"],[0.2222222222222222,\"#7201a8\"],[0.3333333333333333,\"#9c179e\"],[0.4444444444444444,\"#bd3786\"],[0.5555555555555556,\"#d8576b\"],[0.6666666666666666,\"#ed7953\"],[0.7777777777777778,\"#fb9f3a\"],[0.8888888888888888,\"#fdca26\"],[1.0,\"#f0f921\"]],\"sequentialminus\":[[0.0,\"#0d0887\"],[0.1111111111111111,\"#46039f\"],[0.2222222222222222,\"#7201a8\"],[0.3333333333333333,\"#9c179e\"],[0.4444444444444444,\"#bd3786\"],[0.5555555555555556,\"#d8576b\"],[0.6666666666666666,\"#ed7953\"],[0.7777777777777778,\"#fb9f3a\"],[0.8888888888888888,\"#fdca26\"],[1.0,\"#f0f921\"]],\"diverging\":[[0,\"#8e0152\"],[0.1,\"#c51b7d\"],[0.2,\"#de77ae\"],[0.3,\"#f1b6da\"],[0.4,\"#fde0ef\"],[0.5,\"#f7f7f7\"],[0.6,\"#e6f5d0\"],[0.7,\"#b8e186\"],[0.8,\"#7fbc41\"],[0.9,\"#4d9221\"],[1,\"#276419\"]]},\"xaxis\":{\"gridcolor\":\"white\",\"linecolor\":\"white\",\"ticks\":\"\",\"title\":{\"standoff\":15},\"zerolinecolor\":\"white\",\"automargin\":true,\"zerolinewidth\":2},\"yaxis\":{\"gridcolor\":\"white\",\"linecolor\":\"white\",\"ticks\":\"\",\"title\":{\"standoff\":15},\"zerolinecolor\":\"white\",\"automargin\":true,\"zerolinewidth\":2},\"scene\":{\"xaxis\":{\"backgroundcolor\":\"#E5ECF6\",\"gridcolor\":\"white\",\"linecolor\":\"white\",\"showbackground\":true,\"ticks\":\"\",\"zerolinecolor\":\"white\",\"gridwidth\":2},\"yaxis\":{\"backgroundcolor\":\"#E5ECF6\",\"gridcolor\":\"white\",\"linecolor\":\"white\",\"showbackground\":true,\"ticks\":\"\",\"zerolinecolor\":\"white\",\"gridwidth\":2},\"zaxis\":{\"backgroundcolor\":\"#E5ECF6\",\"gridcolor\":\"white\",\"linecolor\":\"white\",\"showbackground\":true,\"ticks\":\"\",\"zerolinecolor\":\"white\",\"gridwidth\":2}},\"shapedefaults\":{\"line\":{\"color\":\"#2a3f5f\"}},\"annotationdefaults\":{\"arrowcolor\":\"#2a3f5f\",\"arrowhead\":0,\"arrowwidth\":1},\"geo\":{\"bgcolor\":\"white\",\"landcolor\":\"#E5ECF6\",\"subunitcolor\":\"white\",\"showland\":true,\"showlakes\":true,\"lakecolor\":\"white\"},\"title\":{\"x\":0.05},\"mapbox\":{\"style\":\"light\"}}},\"xaxis\":{\"anchor\":\"y\",\"domain\":[0.0,1.0],\"title\":{\"text\":\"Time\"}},\"yaxis\":{\"anchor\":\"x\",\"domain\":[0.0,1.0],\"title\":{\"text\":\"Qc0 Value\"}},\"legend\":{\"title\":{\"text\":\"Chains\"},\"tracegroupgap\":0},\"title\":{\"text\":\"Qc0 Values of All Chains over Time (First 10 rows)\"}},                        {\"responsive\": true}                    ).then(function(){\n",
       "                            \n",
       "var gd = document.getElementById('684f543c-0ec7-48a3-964a-85c4055881a7');\n",
       "var x = new MutationObserver(function (mutations, observer) {{\n",
       "        var display = window.getComputedStyle(gd).display;\n",
       "        if (!display || display === 'none') {{\n",
       "            console.log([gd, 'removed!']);\n",
       "            Plotly.purge(gd);\n",
       "            observer.disconnect();\n",
       "        }}\n",
       "}});\n",
       "\n",
       "// Listen for the removal of the full notebook cells\n",
       "var notebookContainer = gd.closest('#notebook-container');\n",
       "if (notebookContainer) {{\n",
       "    x.observe(notebookContainer, {childList: true});\n",
       "}}\n",
       "\n",
       "// Listen for the clearing of the current output cell\n",
       "var outputEl = gd.closest('.output');\n",
       "if (outputEl) {{\n",
       "    x.observe(outputEl, {childList: true});\n",
       "}}\n",
       "\n",
       "                        })                };                });            </script>        </div>"
      ]
     },
     "metadata": {},
     "output_type": "display_data"
    }
   ],
   "source": [
    "import plotly.express as px\n",
    "# Specify the column name for comparison\n",
    "column_name = 'Qc0'\n",
    "\n",
    "# Create a DataFrame for the first 10 rows of all chains\n",
    "data = pd.concat([ch1.head(10), ch2.head(10), ch3.head(10), ch4.head(10)],\n",
    "                 keys=['Ch1', 'Ch2', 'Ch3', 'Ch4'])\n",
    "\n",
    "# Create an interactive line plot using Plotly\n",
    "fig = px.line(data, x='time', y=column_name, color=data.index.get_level_values(0),\n",
    "              labels={'time': 'Time', column_name: 'Qc0 Value'},\n",
    "              title=f'{column_name} Values of All Chains over Time (First 10 rows)')\n",
    "fig.update_layout(legend_title_text='Chains')\n",
    "fig.show()"
   ]
  },
  {
   "cell_type": "code",
   "execution_count": 80,
   "id": "d5614ee7",
   "metadata": {},
   "outputs": [
    {
     "name": "stdout",
     "output_type": "stream",
     "text": [
      "Variance of Qc0 values for Chain 1: 0.3430\n",
      "Variance of Qc0 values for Chain 2: 0.3426\n",
      "Variance of Qc0 values for Chain 3: 0.3256\n",
      "Variance of Qc0 values for Chain 4: 0.3216\n",
      "The most diverse chain in terms of Qc0 values is: Chain 1\n"
     ]
    }
   ],
   "source": [
    "# Specify the column name for comparison\n",
    "column_name = 'Qc0'\n",
    "\n",
    "# Extract the Qc0 values for each chain\n",
    "qc_ch1 = ch1[column_name]\n",
    "qc_ch2 = ch2[column_name]\n",
    "qc_ch3 = ch3[column_name]\n",
    "qc_ch4 = ch4[column_name]\n",
    "\n",
    "# Calculate the variance for each chain's Qc0 values\n",
    "variance_ch1 = qc_ch1.var()\n",
    "variance_ch2 = qc_ch2.var()\n",
    "variance_ch3 = qc_ch3.var()\n",
    "variance_ch4 = qc_ch4.var()\n",
    "\n",
    "# Display the variances\n",
    "print(f\"Variance of {column_name} values for Chain 1: {variance_ch1:.4f}\")\n",
    "print(f\"Variance of {column_name} values for Chain 2: {variance_ch2:.4f}\")\n",
    "print(f\"Variance of {column_name} values for Chain 3: {variance_ch3:.4f}\")\n",
    "print(f\"Variance of {column_name} values for Chain 4: {variance_ch4:.4f}\")\n",
    "\n",
    "# Find the chain with the maximum variance\n",
    "chains = ['Chain 1', 'Chain 2', 'Chain 3', 'Chain 4']\n",
    "variances = [variance_ch1, variance_ch2, variance_ch3, variance_ch4]\n",
    "\n",
    "most_diverse_chain = chains[variances.index(max(variances))]\n",
    "print(f\"The most diverse chain in terms of {column_name} values is: {most_diverse_chain}\")"
   ]
  },
  {
   "cell_type": "code",
   "execution_count": 81,
   "id": "7bf0559e",
   "metadata": {},
   "outputs": [
    {
     "name": "stdout",
     "output_type": "stream",
     "text": [
      "Chains most closely related in terms of Qc0 values:\n",
      "Chain 2 and Chain 4: Correlation = -0.0608\n",
      "Chain 3 and Chain 4: Correlation = -0.0259\n",
      "Chain 1 and Chain 3: Correlation = 0.0130\n",
      "Chain 1 and Chain 2: Correlation = -0.0110\n",
      "Chain 1 and Chain 4: Correlation = -0.0081\n",
      "Chain 2 and Chain 3: Correlation = -0.0040\n"
     ]
    }
   ],
   "source": [
    "# Specify the column name for comparison\n",
    "column_name = 'Qc0'\n",
    "\n",
    "# Extract the Qc0 values for each chain\n",
    "qc_ch1 = ch1[column_name]\n",
    "qc_ch2 = ch2[column_name]\n",
    "qc_ch3 = ch3[column_name]\n",
    "qc_ch4 = ch4[column_name]\n",
    "\n",
    "# Calculate the correlation coefficients between Qc0 values of all pairs of chains\n",
    "corr_ch1_ch2 = qc_ch1.corr(qc_ch2)\n",
    "corr_ch1_ch3 = qc_ch1.corr(qc_ch3)\n",
    "corr_ch1_ch4 = qc_ch1.corr(qc_ch4)\n",
    "corr_ch2_ch3 = qc_ch2.corr(qc_ch3)\n",
    "corr_ch2_ch4 = qc_ch2.corr(qc_ch4)\n",
    "corr_ch3_ch4 = qc_ch3.corr(qc_ch4)\n",
    "\n",
    "# Create a list of correlation pairs\n",
    "correlation_pairs = [\n",
    "    ('Chain 1', 'Chain 2', corr_ch1_ch2),\n",
    "    ('Chain 1', 'Chain 3', corr_ch1_ch3),\n",
    "    ('Chain 1', 'Chain 4', corr_ch1_ch4),\n",
    "    ('Chain 2', 'Chain 3', corr_ch2_ch3),\n",
    "    ('Chain 2', 'Chain 4', corr_ch2_ch4),\n",
    "    ('Chain 3', 'Chain 4', corr_ch3_ch4)\n",
    "]\n",
    "\n",
    "# Sort correlation pairs by absolute correlation coefficient (closeness)\n",
    "sorted_correlation_pairs = sorted(correlation_pairs, key=lambda x: abs(x[2]), reverse=True)\n",
    "\n",
    "# Display the most closely related chains\n",
    "print(\"Chains most closely related in terms of Qc0 values:\")\n",
    "for chain1, chain2, correlation in sorted_correlation_pairs:\n",
    "    print(f\"{chain1} and {chain2}: Correlation = {correlation:.4f}\")\n"
   ]
  },
  {
   "cell_type": "code",
   "execution_count": 82,
   "id": "16bc8137",
   "metadata": {},
   "outputs": [
    {
     "data": {
      "image/png": "[encoded data removed]",
      "text/plain": [
       "<Figure size 800x600 with 2 Axes>"
      ]
     },
     "metadata": {},
     "output_type": "display_data"
    }
   ],
   "source": [
    "# Specify the column name for comparison\n",
    "column_name = 'Qc0'\n",
    "\n",
    "# Extract the Qc0 values for each chain\n",
    "qc_ch1 = ch1[column_name]\n",
    "qc_ch2 = ch2[column_name]\n",
    "qc_ch3 = ch3[column_name]\n",
    "qc_ch4 = ch4[column_name]\n",
    "\n",
    "# Calculate the correlation matrix\n",
    "correlation_matrix = pd.DataFrame({\n",
    "    'Chain 1': qc_ch1,\n",
    "    'Chain 2': qc_ch2,\n",
    "    'Chain 3': qc_ch3,\n",
    "    'Chain 4': qc_ch4\n",
    "}).corr()\n",
    "\n",
    "# Create a heatmap plot using Seaborn\n",
    "plt.figure(figsize=(8, 6))\n",
    "sns.heatmap(correlation_matrix, annot=True, cmap='coolwarm', center=0,\n",
    "            xticklabels=correlation_matrix.columns,\n",
    "            yticklabels=correlation_matrix.columns)\n",
    "plt.title('Correlation Heatmap of Qc0 Values between Chains')\n",
    "plt.show()"
   ]
  },
  {
   "cell_type": "code",
   "execution_count": 86,
   "id": "8961c083",
   "metadata": {},
   "outputs": [
    {
     "name": "stdout",
     "output_type": "stream",
     "text": [
      "PDF report 'Qc0_Report.pdf' generated successfully.\n"
     ]
    }
   ],
   "source": [
    "from reportlab.lib.pagesizes import letter\n",
    "from reportlab.lib import colors\n",
    "from reportlab.lib.styles import getSampleStyleSheet, ParagraphStyle\n",
    "from reportlab.platypus import SimpleDocTemplate, Paragraph, Spacer, Image\n",
    "from PIL import Image as PILImage\n",
    "import pandas as pd\n",
    "import matplotlib.pyplot as plt\n",
    "import io\n",
    "# Specify the column name for comparison\n",
    "column_name = 'Qc0'\n",
    "\n",
    "# Create a PDF report\n",
    "pdf_filename = 'Qc0_Report.pdf'\n",
    "doc = SimpleDocTemplate(pdf_filename, pagesize=letter)\n",
    "\n",
    "# Create styles\n",
    "styles = getSampleStyleSheet()\n",
    "logo_style = ParagraphStyle('LogoStyle', alignment=1)\n",
    "\n",
    "# Create a rocket logo\n",
    "logo = Image('rocket.png', width=100, height=100)\n",
    "logo_data = io.BytesIO()\n",
    "PILImage.open('rocket.png').save(logo_data, format='PNG')\n",
    "logo_data.seek(0)\n",
    "logo.img = logo_data\n",
    "\n",
    "# Create a list for report content\n",
    "report_content = [Paragraph('<br/><br/><br/><br/>', styles['Normal']),\n",
    "                  Paragraph('<b>Qc0 Differences Report</b>', styles['Title']),\n",
    "                  Spacer(1, 10),\n",
    "                  logo,\n",
    "                  Spacer(1, 20)]\n",
    "\n",
    "# Create a DataFrame for all chains\n",
    "data = pd.concat([ch1.head(5), ch2.head(5), ch3.head(5), ch4.head(5)],\n",
    "                 keys=['Ch1', 'Ch2', 'Ch3', 'Ch4'])\n",
    "\n",
    "\n",
    "# Create an interactive line plot using Matplotlib\n",
    "fig, ax = plt.subplots(figsize=(8, 6))\n",
    "for chain in ['Ch1', 'Ch2', 'Ch3', 'Ch4']:\n",
    "    chain_data = data.loc[chain]\n",
    "    ax.plot(chain_data['time'], chain_data[column_name], label=chain)\n",
    "ax.set_xlabel('Time')\n",
    "ax.set_ylabel('Qc0 Value')\n",
    "ax.set_title(f'{column_name} Values of All Chains over Time')\n",
    "ax.legend()\n",
    "img_data = io.BytesIO()\n",
    "plt.savefig(img_data, format='png')\n",
    "img_data.seek(0)\n",
    "plt.close()\n",
    "qc_plot = Image(img_data, width=500, height=350)\n",
    "qc_plot_data = io.BytesIO()\n",
    "PILImage.open(img_data).save(qc_plot_data, format='PNG')\n",
    "qc_plot_data.seek(0)\n",
    "qc_plot.img = qc_plot_data\n",
    "report_content.append(qc_plot)\n",
    "\n",
    "# Add report content to the PDF\n",
    "doc.build(report_content)\n",
    "\n",
    "print(f\"PDF report '{pdf_filename}' generated successfully.\")\n"
   ]
  },
  {
   "cell_type": "code",
   "execution_count": null,
   "id": "1571f251",
   "metadata": {},
   "outputs": [],
   "source": []
  }
 ],
 "metadata": {
  "kernelspec": {
   "display_name": "Python 3 (ipykernel)",
   "language": "python",
   "name": "python3"
  },
  "language_info": {
   "codemirror_mode": {
    "name": "ipython",
    "version": 3
   },
   "file_extension": ".py",
   "mimetype": "text/x-python",
   "name": "python",
   "nbconvert_exporter": "python",
   "pygments_lexer": "ipython3",
   "version": "3.11.4"
  }
 },
 "nbformat": 4,
 "nbformat_minor": 5
}
